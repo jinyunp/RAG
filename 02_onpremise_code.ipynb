{
 "cells": [
  {
   "cell_type": "code",
   "execution_count": 6,
   "metadata": {},
   "outputs": [],
   "source": [
    "# !pip install qwen_vl_utils\n",
    "# pip install -U git+https://github.com/huggingface/transformers\n",
    "# cuda 12.2 \n",
    "# conda install pytorch torchvision torchaudio pytorch-cuda=12.1 -c pytorch -c nvidia\n",
    "# transformers==4.46.2\n",
    "# GPU Memory Usage 7278MiB (test image)\n",
    "# pdf image resized 1/5times 4838MiB\n",
    "# pdf image resized 1/3times 5274MiB\n",
    "# pdf image resized 1/2times 6554MiB\n",
    "# 1/3times image; 2 img input 6686MiB"
   ]
  },
  {
   "cell_type": "code",
   "execution_count": 12,
   "metadata": {},
   "outputs": [],
   "source": [
    "import torch\n",
    "torch.cuda.is_available()\n",
    "\n",
    "import glob\n",
    "import os\n",
    "import pandas as pd\n",
    "\n",
    "import datetime"
   ]
  },
  {
   "cell_type": "code",
   "execution_count": 2,
   "metadata": {},
   "outputs": [
    {
     "name": "stderr",
     "output_type": "stream",
     "text": [
      "/home/ecmdev/anaconda3/envs/rag_sim/lib/python3.10/site-packages/tqdm/auto.py:21: TqdmWarning: IProgress not found. Please update jupyter and ipywidgets. See https://ipywidgets.readthedocs.io/en/stable/user_install.html\n",
      "  from .autonotebook import tqdm as notebook_tqdm\n"
     ]
    }
   ],
   "source": [
    "# pip install byaldi accelerate flash-attn qwen_vl_utils pdf2image\n",
    "from qwen_vl_utils import process_vision_info\n",
    "# from transformers import AutoModelForSequenceClassification, AutoTokenizer\n",
    "from transformers import Qwen2VLForConditionalGeneration, AutoTokenizer, AutoProcessor\n",
    "## if RuntimeError, https://stackoverflow.com/a/65277647 (just uninstall numpy untill none then install again)"
   ]
  },
  {
   "cell_type": "code",
   "execution_count": 3,
   "metadata": {},
   "outputs": [
    {
     "name": "stderr",
     "output_type": "stream",
     "text": [
      "`Qwen2VLRotaryEmbedding` can now be fully parameterized by passing the model config through the `config` argument. All other arguments will be removed in v4.46\n",
      "Loading checkpoint shards: 100%|██████████| 2/2 [00:00<00:00,  3.30it/s]\n"
     ]
    }
   ],
   "source": [
    "model = Qwen2VLForConditionalGeneration.from_pretrained(\n",
    "    \"Qwen2-VL-2B-Instruct\", torch_dtype=\"auto\", device_map=\"auto\"\n",
    ")\n",
    "#load = GPU Memory Usage 4638MiB"
   ]
  },
  {
   "cell_type": "code",
   "execution_count": 4,
   "metadata": {},
   "outputs": [],
   "source": [
    "# default processer\n",
    "processor = AutoProcessor.from_pretrained(\"Qwen2-VL-2B-Instruct\")\n"
   ]
  },
  {
   "cell_type": "markdown",
   "metadata": {},
   "source": [
    "#### Process for individual query"
   ]
  },
  {
   "cell_type": "code",
   "execution_count": 43,
   "metadata": {},
   "outputs": [
    {
     "ename": "IndexError",
     "evalue": "list index out of range",
     "output_type": "error",
     "traceback": [
      "\u001b[0;31m---------------------------------------------------------------------------\u001b[0m",
      "\u001b[0;31mIndexError\u001b[0m                                Traceback (most recent call last)",
      "Cell \u001b[0;32mIn[43], line 2\u001b[0m\n\u001b[1;32m      1\u001b[0m text_query \u001b[38;5;241m=\u001b[39m \u001b[38;5;124m\"\u001b[39m\u001b[38;5;124mWhen molten iron temperature is 1400°C, what should the CaO, SiO2 ratio be for optimal output?\u001b[39m\u001b[38;5;124m\"\u001b[39m\n\u001b[0;32m----> 2\u001b[0m image_input \u001b[38;5;241m=\u001b[39m \u001b[43mglob\u001b[49m\u001b[38;5;241;43m.\u001b[39;49m\u001b[43mglob\u001b[49m\u001b[43m(\u001b[49m\u001b[38;5;124;43mf\u001b[39;49m\u001b[38;5;124;43m'\u001b[39;49m\u001b[38;5;124;43m../ColPali/search_results/resized/\u001b[39;49m\u001b[38;5;132;43;01m{\u001b[39;49;00m\u001b[43mtext_query\u001b[49m\u001b[38;5;132;43;01m}\u001b[39;49;00m\u001b[38;5;124;43m_results_0_*_resized.jpg\u001b[39;49m\u001b[38;5;124;43m'\u001b[39;49m\u001b[43m)\u001b[49m\u001b[43m[\u001b[49m\u001b[38;5;241;43m0\u001b[39;49m\u001b[43m]\u001b[49m\n\u001b[1;32m      4\u001b[0m text_query_1 \u001b[38;5;241m=\u001b[39m \u001b[38;5;124m\"\u001b[39m\u001b[38;5;124mWhen molten iron temperature is 1400°C, what should the CaO, SiO2 ratio be for optimal output?\u001b[39m\u001b[38;5;124m\"\u001b[39m\n\u001b[1;32m      5\u001b[0m image_input_1 \u001b[38;5;241m=\u001b[39m glob\u001b[38;5;241m.\u001b[39mglob(\u001b[38;5;124mf\u001b[39m\u001b[38;5;124m'\u001b[39m\u001b[38;5;124m../ColPali/search_results/resized/\u001b[39m\u001b[38;5;132;01m{\u001b[39;00mtext_query_1\u001b[38;5;132;01m}\u001b[39;00m\u001b[38;5;124m_results_1_*_resized.jpg\u001b[39m\u001b[38;5;124m'\u001b[39m)[\u001b[38;5;241m0\u001b[39m]\n",
      "\u001b[0;31mIndexError\u001b[0m: list index out of range"
     ]
    }
   ],
   "source": [
    "text_query = \"When molten iron temperature is 1400°C, what should the CaO, SiO2 ratio be for optimal output?\"\n",
    "image_input = glob.glob(f'../ColPali/search_results/resized/{text_query}_results_0_*_resized.jpg')[0]\n",
    "\n",
    "text_query_1 = \"When molten iron temperature is 1400°C, what should the CaO, SiO2 ratio be for optimal output?\"\n",
    "image_input_1 = glob.glob(f'../ColPali/search_results/resized/{text_query_1}_results_1_*_resized.jpg')[0]\n",
    "\n",
    "image_input, image_input_1"
   ]
  },
  {
   "cell_type": "code",
   "execution_count": 15,
   "metadata": {},
   "outputs": [],
   "source": [
    "# text_query = \"When molten iron temperature is 1400°C, what should the C\\S ratio be for optimal output?\""
   ]
  },
  {
   "cell_type": "code",
   "execution_count": 16,
   "metadata": {},
   "outputs": [],
   "source": [
    "messages = [\n",
    "    {\n",
    "        \"role\": \"user\",\n",
    "        \"content\": [\n",
    "            {\n",
    "                \"type\": \"image\",\n",
    "                \"image\": image_input,\n",
    "            },\n",
    "            {\n",
    "                \"type\": \"image\",\n",
    "                \"image\": image_input_1,\n",
    "            },\n",
    "            {\"type\": \"text\", \n",
    "             \"text\": text_query},\n",
    "        ],\n",
    "    }\n",
    "]"
   ]
  },
  {
   "cell_type": "code",
   "execution_count": 17,
   "metadata": {},
   "outputs": [],
   "source": [
    "text = processor.apply_chat_template(\n",
    "    messages, tokenize=False, add_generation_prompt=True\n",
    ")"
   ]
  },
  {
   "cell_type": "code",
   "execution_count": 19,
   "metadata": {},
   "outputs": [],
   "source": [
    "image_inputs, video_inputs = process_vision_info(messages)"
   ]
  },
  {
   "cell_type": "code",
   "execution_count": 20,
   "metadata": {},
   "outputs": [],
   "source": [
    "inputs = processor(\n",
    "    text=[text],\n",
    "    images=image_inputs,\n",
    "    videos=video_inputs,\n",
    "    padding=True,\n",
    "    return_tensors=\"pt\",\n",
    ")\n",
    "inputs = inputs.to(\"cuda\")"
   ]
  },
  {
   "cell_type": "code",
   "execution_count": 21,
   "metadata": {},
   "outputs": [
    {
     "data": {
      "text/plain": [
       "[<PIL.Image.Image image mode=RGB size=560x784>,\n",
       " <PIL.Image.Image image mode=RGB size=560x784>]"
      ]
     },
     "execution_count": 21,
     "metadata": {},
     "output_type": "execute_result"
    }
   ],
   "source": [
    "image_inputs"
   ]
  },
  {
   "cell_type": "code",
   "execution_count": 22,
   "metadata": {},
   "outputs": [
    {
     "name": "stdout",
     "output_type": "stream",
     "text": [
      "['According to the table in the text, the optimal CaO-SiO2 ratio for optimal output at a molten iron temperature of 1400°C is 1.58.']\n"
     ]
    }
   ],
   "source": [
    "# Inference: Generation of the output\n",
    "generated_ids = model.generate(**inputs, max_new_tokens=128)\n",
    "\n",
    "generated_ids_trimmed = [\n",
    "    out_ids[len(in_ids) :] for in_ids, out_ids in zip(inputs.input_ids, generated_ids)\n",
    "]\n",
    "output_text = processor.batch_decode(\n",
    "    generated_ids_trimmed, skip_special_tokens=True, clean_up_tokenization_spaces=False\n",
    ")\n",
    "print(output_text)"
   ]
  },
  {
   "cell_type": "code",
   "execution_count": 23,
   "metadata": {},
   "outputs": [
    {
     "name": "stdout",
     "output_type": "stream",
     "text": [
      "According to the table in the text, the optimal CaO-SiO2 ratio for optimal output at a molten iron temperature of 1400°C is 1.58.\n"
     ]
    }
   ],
   "source": [
    "print(output_text[0])"
   ]
  },
  {
   "cell_type": "markdown",
   "metadata": {},
   "source": [
    "#### Work on list of queries and img input"
   ]
  },
  {
   "cell_type": "code",
   "execution_count": 6,
   "metadata": {},
   "outputs": [],
   "source": [
    "query_file = '../ColPali/data/250113_query_list.txt'\n",
    "query_file_name = query_file.split('/')[-1].split('.')[0]\n",
    "\n",
    "## open query list file\n",
    "with open(query_file, 'r') as f:\n",
    "    query_list = f.readlines()\n",
    "f.close()"
   ]
  },
  {
   "cell_type": "code",
   "execution_count": 7,
   "metadata": {},
   "outputs": [],
   "source": [
    "date = datetime.datetime.now().strftime('%y%m%d')"
   ]
  },
  {
   "cell_type": "code",
   "execution_count": 8,
   "metadata": {},
   "outputs": [
    {
     "name": "stdout",
     "output_type": "stream",
     "text": [
      "file already exist\n"
     ]
    }
   ],
   "source": [
    "## create new txt file for results\n",
    "results_file = f'results/{date}_RAG_results.txt'\n",
    "\n",
    "if os.path.exists(results_file):\n",
    "    print('file already exist')\n",
    "else:\n",
    "    with open(results_file, 'w') as f:\n",
    "        f.write('query\\tgenerated answer\\timg input list\\n')\n",
    "    f.close()\n",
    "    print(f'{results_file} created :)')"
   ]
  },
  {
   "cell_type": "code",
   "execution_count": 12,
   "metadata": {},
   "outputs": [
    {
     "name": "stdout",
     "output_type": "stream",
     "text": [
      "Q1:  When molten iron temperature is 1400℃, what should the C-S ratio be for optimal output?\n",
      "\tA:  According to the text, the C-S ratio should be 0.7 for optimal output when molten iron temperature is 1400°C.\n",
      "====RECORD UPDATED====\n",
      "Q2:  When molten iron temperature is 1500℃, how much of Al2O3 content for the optimal slag viscosity?\n",
      "\tA:  According to the text, the optimal slag viscosity occurs when the slag contains 25-30 percent alumina, with high viscosity and liquidus temperatures. Therefore, the optimal slag viscosity can be achieved by adding 25-30 percent of alumina to the slag.\n",
      "====RECORD UPDATED====\n",
      "Q3:  How much does the reducing agent ratio decrease when the average Top Gas temperature increases by 20°C?\n",
      "\tA:  According to Trense and Rosborough, the top gas CO/CO2 ratio increases by 1 percent for a 40°C decrease in the flame temperature below the base case and decreases by 5 percent for each 40°C increase above the base case.\n",
      "====RECORD UPDATED====\n",
      "Q4:  What is the ideal coke particle size for improving the fluidity of the melting matter at the hearth of the blast furnace?\n",
      "\tA:  The ideal coke particle size for improving the fluidity of the melting matter at the hearth of the blast furnace is 5 mm.\n",
      "====RECORD UPDATED====\n",
      "Q5:  What actions can be taken to lower the Si(%)?\n",
      "\tA:  To lower the Si(%) in blast furnace ironmaking, the following actions can be taken:\n",
      "\n",
      "(i) Lower the temperature\n",
      "(ii) Increase the basicity\n",
      "(iii) Increase the pCO2\n",
      "====RECORD UPDATED====\n",
      "Q6:  What impact does the accretion have on the inside of the furnace?\n",
      "\tA:  The accretion has a significant impact on the inside of the furnace. It can cause the formation of arches, bridges, and scaffolds due to fusion or bulging out of bricks by the fluxing action of compounds of sodium, potassium, and zinc.\n",
      "====RECORD UPDATED====\n",
      "Q7:  What operational actions should be taken to reduce the heat load on the blast furnace body?\n",
      "\tA:  To reduce the heat load on the blast furnace body, the following operational actions should be taken:\n",
      "\n",
      "1. Use of hydrogen-bearing blast additives to maintain a reducing atmosphere in front of the tuyeres.\n",
      "2. Use of blast additives rather than blast temperature for controlling the hearth temperature.\n",
      "3. Use of high basicity and low viscosity bosh and hearth slags.\n",
      "4. Operation above but as near to slag liquidus temperature as possible.\n",
      "5. Use of magnesia for lowering the slag viscosity and liquidus temperature; very effective for 10-25 percent alumina slags.\n",
      "6. With normal blast, to\n",
      "====RECORD UPDATED====\n",
      "Q8:  What operational effects occur when the Coke Wf-Di is below the standard level?\n",
      "\tA:  When the coke Wf-Di is below the standard level, the operational effects include: \n",
      "(i) flame temperature; \n",
      "(ii) bosh gas composition and volume; \n",
      "(iii) thermal efficiency, i.e., the CO/CO2 ratio and temperature of the top gas; \n",
      "(iv) operational efficiency, i.e., proportion of direct/indirect reduction; \n",
      "(v) slag volume and basicity; \n",
      "(vi) iron quality; \n",
      "(vii) production efficiency.\n",
      "====RECORD UPDATED====\n",
      "Q9:  When 5 tons of water spraying is applied to the furnace, how many tons of pulverized coal should be injected to compensate for the heat loss?\n",
      "\tA:  According to the table in the image, when 5 tons of water spraying is applied to the furnace, the theoretical flame temperatures with oil injection and oxygen-enriched blast and two levels of tuyere carbon (K) are given. The table shows that the flame temperature decreases with the use of additives, and the thermal state of the hearth is lower. Therefore, to compensate for the heat loss, the amount of pulverized coal should be increased.\n",
      "====RECORD UPDATED====\n",
      "Q10:  What actions can be taken to prevent the bottom sidewall-temperature of the blast furnace from rising significantly?\n",
      "\tA:  To prevent the bottom sidewall-temperature of the blast furnace from rising significantly, the following actions can be taken:\n",
      "\n",
      "(1) Use pre-fluxed, preferably super-fluxed agglomerates.\n",
      "(2) Avoid fluctuations of materials input.\n",
      "(3) Use of mechanically strong agglomerates and coke to maintain uniformity of burden descent and gas throughflow.\n",
      "(4) Use of highly reducible materials (both at high and low temperatures).\n",
      "====RECORD UPDATED====\n"
     ]
    }
   ],
   "source": [
    "for idx, query in enumerate(query_list[1:]):\n",
    "    query = query.strip()\n",
    "    print(f'Q{idx+1}: ', query)\n",
    "\n",
    "    # get the image input data dir\n",
    "    image_input_0 = glob.glob(f'../ColPali/search_results/resized/{query_file_name}_{idx}_0_*_resized.jpg')[0]\n",
    "    image_input_1 = glob.glob(f'../ColPali/search_results/resized/{query_file_name}_{idx}_1_*_resized.jpg')[0]\n",
    "\n",
    "    messages = [\n",
    "        {\n",
    "            \"role\": \"user\",\n",
    "            \"content\": [\n",
    "                {\n",
    "                    \"type\": \"image\",\n",
    "                    \"image\": image_input_0,\n",
    "                },\n",
    "                {\n",
    "                    \"type\": \"image\",\n",
    "                    \"image\": image_input_1,\n",
    "                },\n",
    "                {\"type\": \"text\", \n",
    "                \"text\": query},\n",
    "            ],\n",
    "        }\n",
    "    ]\n",
    "\n",
    "    text = processor.apply_chat_template(\n",
    "        messages, tokenize=False, add_generation_prompt=True\n",
    "    )\n",
    "\n",
    "    image_inputs, video_inputs = process_vision_info(messages)\n",
    "\n",
    "    inputs = processor(\n",
    "        text=[text],\n",
    "        images=image_inputs,\n",
    "        videos=video_inputs,\n",
    "        padding=True,\n",
    "        return_tensors=\"pt\",\n",
    "    )\n",
    "    inputs = inputs.to(\"cuda\")\n",
    "\n",
    "    # Inference: Generation of the output\n",
    "    generated_ids = model.generate(**inputs, max_new_tokens=128)\n",
    "\n",
    "    generated_ids_trimmed = [\n",
    "        out_ids[len(in_ids) :] for in_ids, out_ids in zip(inputs.input_ids, generated_ids)\n",
    "    ]\n",
    "    output_text = processor.batch_decode(\n",
    "        generated_ids_trimmed, skip_special_tokens=True, clean_up_tokenization_spaces=False\n",
    "    )\n",
    "\n",
    "    # record onto the existing file\n",
    "    print('\\tA: ', output_text[0])\n",
    "    with open(results_file, 'a') as f:\n",
    "        f.write(f'{query}\\t{output_text}\\t{[image_input_0, image_input_1]}\\n')\n",
    "    f.close()\n",
    "\n",
    "    print('====RECORD UPDATED====')"
   ]
  },
  {
   "cell_type": "markdown",
   "metadata": {},
   "source": [
    "### 250124 work on colpali result txt file"
   ]
  },
  {
   "cell_type": "code",
   "execution_count": 7,
   "metadata": {},
   "outputs": [
    {
     "data": {
      "text/plain": [
       "['250123_simulation_test/', 'resized/', '250113_query_list/']"
      ]
     },
     "execution_count": 7,
     "metadata": {},
     "output_type": "execute_result"
    }
   ],
   "source": [
    "folder_list = glob.glob(\"**/\", root_dir=\"../ColPali/search_results/\")\n",
    "folder_list"
   ]
  },
  {
   "cell_type": "code",
   "execution_count": 10,
   "metadata": {},
   "outputs": [
    {
     "data": {
      "text/plain": [
       "'../ColPali/search_results/250123_simulation_test/250123_simulation_test_results.txt'"
      ]
     },
     "execution_count": 10,
     "metadata": {},
     "output_type": "execute_result"
    }
   ],
   "source": [
    "file_name = folder_list[0][:-1] ###############3 change the folderlist idx\n",
    "result_file = f'../ColPali/search_results/{file_name}/{file_name}_results.txt'\n",
    "result_file"
   ]
  },
  {
   "cell_type": "code",
   "execution_count": 11,
   "metadata": {},
   "outputs": [
    {
     "data": {
      "text/html": [
       "<div>\n",
       "<style scoped>\n",
       "    .dataframe tbody tr th:only-of-type {\n",
       "        vertical-align: middle;\n",
       "    }\n",
       "\n",
       "    .dataframe tbody tr th {\n",
       "        vertical-align: top;\n",
       "    }\n",
       "\n",
       "    .dataframe thead th {\n",
       "        text-align: right;\n",
       "    }\n",
       "</style>\n",
       "<table border=\"1\" class=\"dataframe\">\n",
       "  <thead>\n",
       "    <tr style=\"text-align: right;\">\n",
       "      <th></th>\n",
       "      <th>query_no</th>\n",
       "      <th>query</th>\n",
       "      <th>doc_id</th>\n",
       "      <th>doc_name</th>\n",
       "      <th>search_rank</th>\n",
       "      <th>searched_page</th>\n",
       "      <th>score</th>\n",
       "    </tr>\n",
       "  </thead>\n",
       "  <tbody>\n",
       "    <tr>\n",
       "      <th>0</th>\n",
       "      <td>0</td>\n",
       "      <td>When molten iron temperature is 1400℃, what sh...</td>\n",
       "      <td>1</td>\n",
       "      <td>ref_documents/Principles of Blast Furnace Iron...</td>\n",
       "      <td>0</td>\n",
       "      <td>455</td>\n",
       "      <td>21.375</td>\n",
       "    </tr>\n",
       "    <tr>\n",
       "      <th>1</th>\n",
       "      <td>0</td>\n",
       "      <td>When molten iron temperature is 1400℃, what sh...</td>\n",
       "      <td>1</td>\n",
       "      <td>ref_documents/Principles of Blast Furnace Iron...</td>\n",
       "      <td>1</td>\n",
       "      <td>374</td>\n",
       "      <td>21.125</td>\n",
       "    </tr>\n",
       "    <tr>\n",
       "      <th>2</th>\n",
       "      <td>0</td>\n",
       "      <td>When molten iron temperature is 1400℃, what sh...</td>\n",
       "      <td>2</td>\n",
       "      <td>ref_documents/Beyond the blast furnace 1992.pdf</td>\n",
       "      <td>2</td>\n",
       "      <td>221</td>\n",
       "      <td>21.125</td>\n",
       "    </tr>\n",
       "    <tr>\n",
       "      <th>3</th>\n",
       "      <td>1</td>\n",
       "      <td>When molten iron temperature is 1500℃, how muc...</td>\n",
       "      <td>2</td>\n",
       "      <td>ref_documents/Beyond the blast furnace 1992.pdf</td>\n",
       "      <td>0</td>\n",
       "      <td>156</td>\n",
       "      <td>25.375</td>\n",
       "    </tr>\n",
       "    <tr>\n",
       "      <th>4</th>\n",
       "      <td>1</td>\n",
       "      <td>When molten iron temperature is 1500℃, how muc...</td>\n",
       "      <td>1</td>\n",
       "      <td>ref_documents/Principles of Blast Furnace Iron...</td>\n",
       "      <td>1</td>\n",
       "      <td>67</td>\n",
       "      <td>25.250</td>\n",
       "    </tr>\n",
       "  </tbody>\n",
       "</table>\n",
       "</div>"
      ],
      "text/plain": [
       "   query_no                                              query  doc_id  \\\n",
       "0         0  When molten iron temperature is 1400℃, what sh...       1   \n",
       "1         0  When molten iron temperature is 1400℃, what sh...       1   \n",
       "2         0  When molten iron temperature is 1400℃, what sh...       2   \n",
       "3         1  When molten iron temperature is 1500℃, how muc...       2   \n",
       "4         1  When molten iron temperature is 1500℃, how muc...       1   \n",
       "\n",
       "                                            doc_name  search_rank  \\\n",
       "0  ref_documents/Principles of Blast Furnace Iron...            0   \n",
       "1  ref_documents/Principles of Blast Furnace Iron...            1   \n",
       "2    ref_documents/Beyond the blast furnace 1992.pdf            2   \n",
       "3    ref_documents/Beyond the blast furnace 1992.pdf            0   \n",
       "4  ref_documents/Principles of Blast Furnace Iron...            1   \n",
       "\n",
       "   searched_page   score  \n",
       "0            455  21.375  \n",
       "1            374  21.125  \n",
       "2            221  21.125  \n",
       "3            156  25.375  \n",
       "4             67  25.250  "
      ]
     },
     "execution_count": 11,
     "metadata": {},
     "output_type": "execute_result"
    }
   ],
   "source": [
    "## bring the colpali result\n",
    "data = pd.read_csv(result_file, sep='\\t')\n",
    "data.head()"
   ]
  },
  {
   "cell_type": "code",
   "execution_count": 16,
   "metadata": {},
   "outputs": [
    {
     "data": {
      "text/plain": [
       "array(['When molten iron temperature is 1400℃, what should the C-S ratio be for optimal output?',\n",
       "       'When molten iron temperature is 1500℃, how much of Al2O3 content for the optimal slag viscosity?',\n",
       "       'How much does the reducing agent ratio decrease when the average Top Gas temperature increases by 20°C?',\n",
       "       'What is the ideal coke particle size for improving the fluidity of the melting matter at the hearth of the blast furnace?',\n",
       "       'What actions can be taken to lower the Si(%)?',\n",
       "       'What impact does the accretion have on the inside of the furnace?',\n",
       "       'What operational actions should be taken to reduce the heat load on the blast furnace body?',\n",
       "       'What operational effects occur when the Coke Wf-Di is below the standard level?',\n",
       "       'When 5 tons of water spraying is applied to the furnace, how many tons of pulverized coal should be injected to compensate for the heat loss?',\n",
       "       'What actions can be taken to prevent the bottom sidewall-temperature of the blast furnace from rising significantly?'],\n",
       "      dtype=object)"
      ]
     },
     "execution_count": 16,
     "metadata": {},
     "output_type": "execute_result"
    }
   ],
   "source": [
    "query_list = data['query'].unique()\n",
    "query_list"
   ]
  },
  {
   "cell_type": "code",
   "execution_count": 13,
   "metadata": {},
   "outputs": [
    {
     "data": {
      "text/plain": [
       "'250124'"
      ]
     },
     "execution_count": 13,
     "metadata": {},
     "output_type": "execute_result"
    }
   ],
   "source": [
    "date = datetime.datetime.now().strftime('%y%m%d')\n",
    "date"
   ]
  },
  {
   "cell_type": "code",
   "execution_count": 14,
   "metadata": {},
   "outputs": [
    {
     "name": "stdout",
     "output_type": "stream",
     "text": [
      "results/250123_simulation_test_250124_RAG_results.txt created :)\n"
     ]
    }
   ],
   "source": [
    "## create new txt file for results\n",
    "results_file = f'results/{file_name}_{date}_RAG_results.txt'\n",
    "\n",
    "if os.path.exists(results_file):\n",
    "    print('file already exist')\n",
    "else:\n",
    "    with open(results_file, 'w') as f:\n",
    "        f.write('query\\tgenerated answer\\timg input list\\n')\n",
    "    f.close()\n",
    "    print(f'{results_file} created :)')"
   ]
  },
  {
   "cell_type": "code",
   "execution_count": 18,
   "metadata": {},
   "outputs": [
    {
     "data": {
      "text/plain": [
       "['../ColPali/search_results/250123_simulation_test/250123_simulation_test_0_2_221.jpg',\n",
       " '../ColPali/search_results/250123_simulation_test/250123_simulation_test_0_1_374.jpg',\n",
       " '../ColPali/search_results/250123_simulation_test/250123_simulation_test_0_0_455.jpg']"
      ]
     },
     "execution_count": 18,
     "metadata": {},
     "output_type": "execute_result"
    }
   ],
   "source": [
    "glob.glob(f'../ColPali/search_results/{file_name}/{file_name}_{0}_*.jpg')"
   ]
  },
  {
   "cell_type": "code",
   "execution_count": 20,
   "metadata": {},
   "outputs": [
    {
     "name": "stdout",
     "output_type": "stream",
     "text": [
      "Q1:  When molten iron temperature is 1400℃, what should the C-S ratio be for optimal output?\n",
      "\tA:  The optimal C-S ratio for optimal output when molten iron temperature is 1400°C is 0.06%.\n",
      "====RECORD UPDATED====\n",
      "Q2:  When molten iron temperature is 1500℃, how much of Al2O3 content for the optimal slag viscosity?\n",
      "\tA:  According to the figure in the text, the optimal slag viscosity is achieved when the Al2O3 content is around 35.6%.\n",
      "====RECORD UPDATED====\n",
      "Q3:  How much does the reducing agent ratio decrease when the average Top Gas temperature increases by 20°C?\n",
      "\tA:  The reducing agent ratio decreases by 1.5% when the average Top Gas temperature increases by 20°C.\n",
      "====RECORD UPDATED====\n",
      "Q4:  What is the ideal coke particle size for improving the fluidity of the melting matter at the hearth of the blast furnace?\n",
      "\tA:  The ideal coke particle size for improving the fluidity of the melting matter at the hearth of the blast furnace is 40 mm.\n",
      "====RECORD UPDATED====\n",
      "Q5:  What actions can be taken to lower the Si(%)?\n",
      "\tA:  To lower the Si(%) in blast furnace iron, several actions can be taken:\n",
      "\n",
      "1. Increase the oxygen potential (FeO content of the slag) to increase the equilibrium sulfur distribution ratio (%S)/a[8].\n",
      "\n",
      "2. Increase the basicity of the slag to increase the equilibrium sulfur distribution ratio (%S)/a[8].\n",
      "\n",
      "3. Increase the FeO content of the metal to increase the equilibrium sulfur distribution ratio (%S)/a[8].\n",
      "\n",
      "4. Increase the carbon and/or silicon and manganese reactions to increase the equilibrium sulfur distribution ratio (%S)/a[8].\n",
      "\n",
      "5. Increase the oxygen potential (FeO content of\n",
      "====RECORD UPDATED====\n",
      "Q6:  What impact does the accretion have on the inside of the furnace?\n",
      "\tA:  The accretion, which is the accumulation of materials on the inside of the furnace, can cause a decrease in the gas velocity and stock descent rate. This can result in a smoother furnace operation and a more uniform gas distribution.\n",
      "====RECORD UPDATED====\n",
      "Q7:  What operational actions should be taken to reduce the heat load on the blast furnace body?\n",
      "\tA:  To reduce the heat load on the blast furnace body, the following operational actions should be taken:\n",
      "\n",
      "1. Increase the amount of coke in the blast furnace.\n",
      "2. Increase the amount of iron in the blast furnace.\n",
      "3. Increase the amount of lime in the blast furnace.\n",
      "4. Increase the amount of silica in the blast furnace.\n",
      "5. Increase the amount of aluminum in the blast furnace.\n",
      "6. Increase the amount of manganese in the blast furnace.\n",
      "7. Increase the amount of sulfur in the blast furnace.\n",
      "8. Increase the amount of phosphorus in the blast furnace.\n",
      "9. Increase the amount of cobalt in the blast furnace\n",
      "====RECORD UPDATED====\n",
      "Q8:  What operational effects occur when the Coke Wf-Di is below the standard level?\n",
      "\tA:  When the Coke Wf-Di is below the standard level, the operational effects include:\n",
      "\n",
      "1. Reduced CO utilization: The CO utilization decreases as the Coke Wf-Di falls below the standard level.\n",
      "2. Increased CO production: The CO production increases as the Coke Wf-Di falls below the standard level.\n",
      "3. Increased CO consumption: The CO consumption increases as the Coke Wf-Di falls below the standard level.\n",
      "4. Increased CO conversion: The CO conversion increases as the Coke Wf-Di falls below the standard level.\n",
      "5. Increased CO loss: The CO loss increases as the Coke Wf-Di falls\n",
      "====RECORD UPDATED====\n",
      "Q9:  When 5 tons of water spraying is applied to the furnace, how many tons of pulverized coal should be injected to compensate for the heat loss?\n",
      "\tA:  To determine the amount of pulverized coal needed to compensate for the heat loss when 5 tons of water are sprayed into the blast furnace, we need to calculate the heat loss and then determine the amount of coal required to replace it.\n",
      "\n",
      "1. Calculate the heat loss:\n",
      "- The heat loss is equal to the amount of water sprayed into the furnace, which is 5 tons.\n",
      "- The heat loss per ton of water sprayed is approximately 1000 kcal/kg.\n",
      "- Therefore, the heat loss is 5 tons * 1000 kcal/kg = 5000 kcal.\n",
      "\n",
      "2. Calculate the amount of coal\n",
      "====RECORD UPDATED====\n",
      "Q10:  What actions can be taken to prevent the bottom sidewall-temperature of the blast furnace from rising significantly?\n",
      "\tA:  To prevent the bottom sidewall-temperature of the blast furnace from rising significantly, the following actions can be taken:\n",
      "\n",
      "1. Maintain constant blast temperatures.\n",
      "2. Use of hydrogen-bearing blast additives to maintain a reducing atmosphere in front of the tuyeres.\n",
      "3. Use of high basicity and low viscosity bosh and hearth slags.\n",
      "4. Operation above but as near to slag liquidus temperature as possible.\n",
      "5. Use of magnesia for lowering the slag viscosity and liquidus temperature; very effective for 10-25 percent alumina slags.\n",
      "6. With normal blast, to lower or to increase metal silicon\n",
      "====RECORD UPDATED====\n"
     ]
    }
   ],
   "source": [
    "for idx, query in enumerate(query_list):\n",
    "    query = query.strip()\n",
    "    print(f'Q{idx+1}: ', query)\n",
    "\n",
    "    # get the image input data dir\n",
    "    image_input_list = glob.glob(f'../ColPali/search_results/{file_name}/{file_name}_{idx}_*.jpg')\n",
    "\n",
    "    messages = [\n",
    "        {\n",
    "            \"role\": \"user\",\n",
    "            \"content\": [\n",
    "                {\n",
    "                    \"type\": \"image\",\n",
    "                    \"image\": image_input_list[0],\n",
    "                },\n",
    "                {\n",
    "                    \"type\": \"image\",\n",
    "                    \"image\": image_input_list[1],\n",
    "                },\n",
    "                {\n",
    "                    \"type\": \"image\",\n",
    "                    \"image\": image_input_list[2],\n",
    "                },\n",
    "                {\"type\": \"text\", \n",
    "                \"text\": query},\n",
    "            ],\n",
    "        }\n",
    "    ]\n",
    "\n",
    "    text = processor.apply_chat_template(\n",
    "        messages, tokenize=False, add_generation_prompt=True\n",
    "    )\n",
    "\n",
    "    image_inputs, video_inputs = process_vision_info(messages)\n",
    "\n",
    "    inputs = processor(\n",
    "        text=[text],\n",
    "        images=image_inputs,\n",
    "        videos=video_inputs,\n",
    "        padding=True,\n",
    "        return_tensors=\"pt\",\n",
    "    )\n",
    "    inputs = inputs.to(\"cuda\")\n",
    "\n",
    "    # Inference: Generation of the output\n",
    "    generated_ids = model.generate(**inputs, max_new_tokens=128)\n",
    "\n",
    "    generated_ids_trimmed = [\n",
    "        out_ids[len(in_ids) :] for in_ids, out_ids in zip(inputs.input_ids, generated_ids)\n",
    "    ]\n",
    "    output_text = processor.batch_decode(\n",
    "        generated_ids_trimmed, skip_special_tokens=True, clean_up_tokenization_spaces=False\n",
    "    )\n",
    "\n",
    "    # record onto the existing file\n",
    "    print('\\tA: ', output_text[0])\n",
    "    with open(results_file, 'a') as f:\n",
    "        f.write(f'{query}\\t{output_text}\\t{image_input_list}\\n')\n",
    "    f.close()\n",
    "\n",
    "    print('====RECORD UPDATED====')"
   ]
  },
  {
   "cell_type": "code",
   "execution_count": null,
   "metadata": {},
   "outputs": [],
   "source": []
  },
  {
   "cell_type": "markdown",
   "metadata": {},
   "source": [
    "#### Work on one query with several modifications"
   ]
  },
  {
   "cell_type": "code",
   "execution_count": 9,
   "metadata": {},
   "outputs": [],
   "source": [
    "query_file = '../ColPali/data/250113_query_list_0_prompt.txt'\n",
    "\n",
    "## open query list file\n",
    "with open(query_file, 'r') as f:\n",
    "    query_list = f.readlines()\n",
    "f.close()"
   ]
  },
  {
   "cell_type": "code",
   "execution_count": 10,
   "metadata": {},
   "outputs": [
    {
     "name": "stdout",
     "output_type": "stream",
     "text": [
      "results/250113_query_list_0_RAG_results.txt created :)\n"
     ]
    }
   ],
   "source": [
    "## create new txt file for results\n",
    "query_file_name = query_file.split('/')[-1].split('.')[0][:-7]\n",
    "results_file = f'results/{query_file_name}_RAG_results.txt'\n",
    "\n",
    "if os.path.exists(results_file):\n",
    "    print('file already exist')\n",
    "else:\n",
    "    with open(results_file, 'w') as f:\n",
    "        f.write('query\\tgenerated answer\\n')\n",
    "    f.close()\n",
    "    print(f'{results_file} created :)')"
   ]
  },
  {
   "cell_type": "code",
   "execution_count": 11,
   "metadata": {},
   "outputs": [
    {
     "name": "stdout",
     "output_type": "stream",
     "text": [
      "Q1:  When molten iron temperature is 1400℃, what should the CaO-SiO2 ratio be for optimal output?\n",
      "\tA:  According to the text, the optimal CaO-SiO2 ratio for optimal output is 0.8.\n",
      "====RECORD UPDATED====\n",
      "Q2:  What is the exact ratio of CaO-SiO2 for maximum output at 1400 degrees of molten iron temperature?\n",
      "\tA:  The exact ratio of CaO-SiO2 for maximum output at 1400 degrees of molten iron temperature is 1.5.\n",
      "====RECORD UPDATED====\n",
      "Q3:  For molten iron at 1400℃, what is the ideal CaO-SiO2 ratio to achieve optimal output?\n",
      "\tA:  According to the text, the ideal CaO-SiO2 ratio to achieve optimal output is 0.8.\n",
      "====RECORD UPDATED====\n",
      "Q4:  What CaO-SiO2 ratio should be used when the molten iron temperature is 1400℃ for maximum efficiency?\n",
      "\tA:  According to the text, the CaO-SiO2 ratio should be 0.8 for maximum efficiency when the molten iron temperature is 1400℃.\n",
      "====RECORD UPDATED====\n",
      "Q5:  At a molten iron temperature of 1400℃, what CaO-SiO2 ratio ensures the best output?\n",
      "\tA:  According to the text, the optimal CaO-SiO2 ratio for blast furnace productivity is 0.8.\n",
      "====RECORD UPDATED====\n",
      "Q6:  When molten iron temperature is 1400℃, what is the optimal C/S (carbon/sulfur) ratio that should be maintained to ensure the best output in a blast furnace? Please include the recommended range for the C/S ratio and explain how it affects the efficiency of the process.\n",
      "\tA:  The optimal C/S ratio for maintaining the best output in a blast furnace when molten iron temperature is 1400°C is between 0.8 and 0.9. This is based on the findings of the study by Macdonald. The study found that the optimal C/S ratio for maintaining the best output in a blast furnace is between 0.8 and 0.9, and that this ratio is more efficient than other ratios. The optimal C/S ratio is recommended to be maintained to ensure the best output in a blast furnace when molten iron temperature is 1400°C.\n",
      "====RECORD UPDATED====\n",
      "Q7:  At a molten iron temperature of 1400℃, what should the carbon to sulfur (C/S) ratio be to achieve the optimal output in steelmaking or blast furnace operations? Please provide the range and the reasoning behind the optimal ratio, considering factors like impurity control and furnace efficiency.\n",
      "\tA:  The optimal C/S ratio for blast furnace operations is typically around 0.8 to 1.0. This ratio is chosen because it balances the need for sufficient carbon to maintain the necessary temperature and purity of the molten iron, while also controlling the sulfur content to achieve optimal steel quality. The optimal C/S ratio is determined by considering factors such as the desired steel quality, the furnace efficiency, and the potential for impurity control. In general, a higher C/S ratio will result in a higher sulfur content in the steel, which can be controlled by adjusting the furnace operating conditions.\n",
      "====RECORD UPDATED====\n",
      "Q8:  In a steelmaking or blast furnace process where the molten iron temperature is maintained at 1400℃, what is the ideal C/S ratio for the best production results? Include the relationship between carbon and sulfur content and its impact on the slag chemistry and the overall process efficiency.\n",
      "\tA:  The ideal C/S ratio for the best production results in a steelmaking or blast furnace process where the molten iron temperature is maintained at 1400°C is approximately 0.8. This ratio is based on the equilibrium sulphur distribution, which is given by Eq. 9.14. The equilibrium sulphur distribution is a function of the C/S ratio and the sulphur distribution ratio, which is given by Eq. 9.16. The sulphur distribution ratio is a measure of the degree of oxidation and hematite content of the iron, and it is a function of the C/S ratio and the degree of oxidation and hematite content of the iron. The sulphur distribution ratio is also a function of the degree of oxidation and hematite content of the iron, and it is a function of the C/S ratio and the degree of oxidation and hematite content of the iron. The sulphur distribution ratio is also a function of the degree of oxidation and hematite content of the iron, and it is a function of the C/S ratio and the degree of oxidation and hematite content of the iron. The sulphur distribution ratio is also a function of the degree of oxidation and hematite content of the iron, and it is a function\n",
      "====RECORD UPDATED====\n",
      "Q9:  Considering the temperature of molten iron at 1400℃, what should be the ideal C/S ratio for optimal output in terms of slag formation and impurity control? Please provide the recommended C/S ratio along with any relevant temperature-dependent adjustments.\n",
      "\tA:  The recommended C/S ratio for optimal output in terms of slag formation and impurity control is 0.8.\n",
      "====RECORD UPDATED====\n",
      "Q10:  For molten iron at a temperature of 1400℃, what C/S ratio should be targeted for optimal production output in a typical blast furnace or steelmaking operation? Detail the effects of varying C/S ratios on the process efficiency, impurity removal, and overall slag formation.\n",
      "\tA:  Based on the information provided in the text, the optimal C/S ratio for optimal production output in a typical blast furnace or steelmaking operation is approximately 0.8. This ratio is targeted to achieve the desired balance between the slag volume and the crystalline silicates, which are increasingly replaced by glass as the basicity increases. The text states that as the basicity increases, the slag volume increases and the crystalline silicates are increasingly replaced by glass. Lime makes the glass less viscous, requiring lower temperatures and hence less fuel, thus increasing the degree of oxidation and hematite content, both original and secondary. Hence, the sinter strength decreases and the reducibility increases (Fig. 6.12).\n",
      "====RECORD UPDATED====\n"
     ]
    }
   ],
   "source": [
    "# get the image input data dir\n",
    "image_input_0 = glob.glob(f'../ColPali/search_results/resized/{query_file_name}_0_*_resized.jpg')[0]\n",
    "image_input_1 = glob.glob(f'../ColPali/search_results/resized/{query_file_name}_1_*_resized.jpg')[0]\n",
    "image_input_2 = glob.glob(f'../ColPali/search_results/resized/{query_file_name}_2_*_resized.jpg')[0]\n",
    "\n",
    "with open(results_file, 'a') as f:\n",
    "    f.write(f'{image_input_0}, {image_input_1}, {image_input_2}\\n')\n",
    "f.close()\n",
    "\n",
    "for idx, query in enumerate(query_list[1:]):\n",
    "    query = query.strip()\n",
    "    print(f'Q{idx+1}: ', query)\n",
    "\n",
    "    messages = [\n",
    "        {\n",
    "            \"role\": \"user\",\n",
    "            \"content\": [\n",
    "                {\n",
    "                    \"type\": \"image\",\n",
    "                    \"image\": image_input_0,\n",
    "                },\n",
    "                {\n",
    "                    \"type\": \"image\",\n",
    "                    \"image\": image_input_1,\n",
    "                },\n",
    "                {\n",
    "                    \"type\": \"image\",\n",
    "                    \"image\": image_input_2,\n",
    "                },\n",
    "                {\"type\": \"text\", \n",
    "                \"text\": query},\n",
    "            ],\n",
    "        }\n",
    "    ]\n",
    "\n",
    "    text = processor.apply_chat_template(\n",
    "        messages, tokenize=False, add_generation_prompt=True\n",
    "    )\n",
    "\n",
    "    image_inputs, video_inputs = process_vision_info(messages)\n",
    "\n",
    "    inputs = processor(\n",
    "        text=[text],\n",
    "        images=image_inputs,\n",
    "        videos=video_inputs,\n",
    "        padding=True,\n",
    "        return_tensors=\"pt\",\n",
    "    )\n",
    "    inputs = inputs.to(\"cuda\")\n",
    "\n",
    "    # Inference: Generation of the output\n",
    "    generated_ids = model.generate(**inputs, max_new_tokens=256)\n",
    "\n",
    "    generated_ids_trimmed = [\n",
    "        out_ids[len(in_ids) :] for in_ids, out_ids in zip(inputs.input_ids, generated_ids)\n",
    "    ]\n",
    "    output_text = processor.batch_decode(\n",
    "        generated_ids_trimmed, skip_special_tokens=True, clean_up_tokenization_spaces=False\n",
    "    )\n",
    "\n",
    "    # record onto the existing file\n",
    "    print('\\tA: ', output_text[0])\n",
    "    with open(results_file, 'a') as f:\n",
    "        f.write(f'{query}\\t{output_text}\\n')\n",
    "    f.close()\n",
    "\n",
    "    print('====RECORD UPDATED====')"
   ]
  },
  {
   "cell_type": "code",
   "execution_count": null,
   "metadata": {},
   "outputs": [],
   "source": []
  },
  {
   "cell_type": "code",
   "execution_count": null,
   "metadata": {},
   "outputs": [],
   "source": []
  }
 ],
 "metadata": {
  "kernelspec": {
   "display_name": "rag_sim",
   "language": "python",
   "name": "python3"
  },
  "language_info": {
   "codemirror_mode": {
    "name": "ipython",
    "version": 3
   },
   "file_extension": ".py",
   "mimetype": "text/x-python",
   "name": "python",
   "nbconvert_exporter": "python",
   "pygments_lexer": "ipython3",
   "version": "3.10.16"
  }
 },
 "nbformat": 4,
 "nbformat_minor": 2
}
